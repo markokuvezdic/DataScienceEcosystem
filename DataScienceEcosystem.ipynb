{
 "cells": [
  {
   "cell_type": "markdown",
   "id": "9bb9b5ef-0539-4a96-934e-3ac212380c15",
   "metadata": {},
   "source": [
    "# Data Science Tools and Ecosystem"
   ]
  },
  {
   "cell_type": "markdown",
   "id": "f4bab52e-0a71-444b-ba29-bb444e672f1c",
   "metadata": {},
   "source": [
    "In this notebook, Data Science Tools and Ecosystem are summarized."
   ]
  },
  {
   "cell_type": "markdown",
   "id": "8f2d9e0e-2958-401c-a4cb-24d0a11773b1",
   "metadata": {},
   "source": [
    "**Objectives:**\n",
    "* language\n",
    "* libraries\n",
    "* arithmetic expressions"
   ]
  },
  {
   "cell_type": "markdown",
   "id": "66c8d3a7-2399-437d-a0a5-e690a90ac529",
   "metadata": {},
   "source": [
    "Some of the popular languages that Data Scientists use are:\n",
    "1. Python\n",
    "1. R\n",
    "1. SQL\n",
    "1. Java\n",
    "1. MATLAB"
   ]
  },
  {
   "cell_type": "markdown",
   "id": "16eb4e66-c178-40c8-8d21-638b836e8ddf",
   "metadata": {},
   "source": [
    "Some of the commonly used libraries used by Data Scientists include:\n",
    "1. NumPy\n",
    "1. Pandas\n",
    "1. SciKit-Learn\n",
    "1. Matplotlib\n",
    "1. Keras"
   ]
  },
  {
   "cell_type": "markdown",
   "id": "d297977c-2630-4ed6-8345-f4d6e90e2027",
   "metadata": {},
   "source": [
    "| Data Science Tools |\n",
    "| --- |\n",
    "| Weka |\n",
    "| Scrapy |\n",
    "| Pandas |"
   ]
  },
  {
   "cell_type": "markdown",
   "id": "a9c2f152-857a-41b9-aa83-57e36379f865",
   "metadata": {},
   "source": [
    "### Below are a few examples of evaluating arithmetic expressions in Python\n",
    "a = 10\n",
    "b = 20\n",
    "a + b\n",
    "c = 5\n",
    "d = 20\n",
    "c - d"
   ]
  },
  {
   "cell_type": "code",
   "execution_count": 1,
   "id": "e5cee58f-bbdd-4733-b0ba-9272e5f07720",
   "metadata": {},
   "outputs": [
    {
     "data": {
      "text/plain": [
       "17"
      ]
     },
     "execution_count": 1,
     "metadata": {},
     "output_type": "execute_result"
    }
   ],
   "source": [
    "#This a simple arithmetic expression to mutiply then add integers\n",
    "(3*4)+5"
   ]
  },
  {
   "cell_type": "code",
   "execution_count": 2,
   "id": "7fbb26ee-4a62-4768-8aff-5eb9c0ed9cb1",
   "metadata": {},
   "outputs": [
    {
     "data": {
      "text/plain": [
       "3.3333333333333335"
      ]
     },
     "execution_count": 2,
     "metadata": {},
     "output_type": "execute_result"
    }
   ],
   "source": [
    "#This will convert 200 minutes to hours by diving by 60\n",
    "200/60"
   ]
  },
  {
   "cell_type": "markdown",
   "id": "b544af32-ee98-479e-bd0e-67258196d9c5",
   "metadata": {},
   "source": [
    "## Author\n",
    "Marko Kuvezdic"
   ]
  },
  {
   "cell_type": "code",
   "execution_count": null,
   "id": "ee6e3336-2e92-47ac-b07b-839de741a833",
   "metadata": {},
   "outputs": [],
   "source": []
  }
 ],
 "metadata": {
  "kernelspec": {
   "display_name": "Python",
   "language": "python",
   "name": "conda-env-python-py"
  },
  "language_info": {
   "codemirror_mode": {
    "name": "ipython",
    "version": 3
   },
   "file_extension": ".py",
   "mimetype": "text/x-python",
   "name": "python",
   "nbconvert_exporter": "python",
   "pygments_lexer": "ipython3",
   "version": "3.7.12"
  }
 },
 "nbformat": 4,
 "nbformat_minor": 5
}
